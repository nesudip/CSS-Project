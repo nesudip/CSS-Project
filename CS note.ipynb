{
 "cells": [
  {
   "cell_type": "markdown",
   "metadata": {},
   "source": [
    "1) what is css?\n",
    "cascading style sheet\n",
    "\n",
    "it is a language that is used to describe the style of a document"
   ]
  },
  {
   "cell_type": "markdown",
   "metadata": {},
   "source": [
    "2) including style\n",
    "\n",
    "* inline \n",
    "<h1 style=\"colour:red\">ne sudip</h1>\n",
    "\n",
    "* <style> tag\n",
    "<style>\n",
    "    h1{\n",
    "        colour:red:\n",
    "    }\n",
    "    </style>\n",
    "\n",
    " * external stylesheet\n",
    " writing css in a separate document and linked it with html file   "
   ]
  },
  {
   "cell_type": "markdown",
   "metadata": {},
   "source": [
    "3) colour property\n",
    "used to set the colour of foreground\n",
    "\n",
    "colour:red;\n",
    "colour:black;\n",
    "colour:white;"
   ]
  },
  {
   "cell_type": "markdown",
   "metadata": {},
   "source": [
    "4) background color proporty\n",
    "used to set the colour of background\n",
    "background-color:blue;\n",
    "background-color:pink; "
   ]
  },
  {
   "cell_type": "markdown",
   "metadata": {},
   "source": [
    "5) color system\n",
    "* R G B\n",
    "red,green, blue\n",
    "color:rgb(0,23,25)\n",
    "\n",
    "*   HEX color system\n",
    "color:#ffooo;"
   ]
  },
  {
   "cell_type": "markdown",
   "metadata": {},
   "source": [
    "6) selectors\n",
    "\n",
    "* unoversal selectors\n",
    "*{}\n",
    "\n",
    "* element selectors\n",
    "h1{}\n",
    "\n",
    "* id selectors\n",
    "#myid{}\n",
    "\n",
    "* class selectors\n",
    ".myclass{}"
   ]
  },
  {
   "cell_type": "markdown",
   "metadata": {},
   "source": [
    "7) text properties\n",
    "\n",
    "text-align\n",
    "text-align:left/right/center\n",
    "\n",
    "* text-decoration\n",
    "text-decoration:underline/overline/line-through\n",
    "\n",
    "* font-weight\n",
    "\n",
    "font-weight:normal/bold/bolder/lighter\n",
    "\n",
    "font- weight:100-900\n",
    "\n",
    "* font-family\n",
    "\n",
    "font-family:arial\n",
    "font-famiy:arial roboto"
   ]
  },
  {
   "cell_type": "markdown",
   "metadata": {},
   "source": [
    "8) units in css\n",
    "absolute\n",
    "\n",
    "pixels(px)\n",
    "96px=1 inch\n",
    "font-size:2px;\n",
    "\n",
    "* line-height\n",
    "\n",
    "line-height:2px\n",
    "\n",
    "line-height:normal\n",
    "\n",
    "* text-transform\n",
    "text-transform:uppercase/lowercase/capitlize/none"
   ]
  },
  {
   "cell_type": "markdown",
   "metadata": {},
   "source": [
    "9) box model in css\n",
    "* height,width,border,padding,margin\n",
    "\n",
    "border\n",
    "used to set an element border\n",
    "border-width:2px\n",
    "boeder-style:solid,dotted\n",
    "border-colour:black;"
   ]
  },
  {
   "cell_type": "markdown",
   "metadata": {},
   "source": [
    "10) display property\n",
    "* inline-takes only the space required by the elemet\n",
    "* block-takes full space avaiable in width.\n",
    "* inline-block-similar to inline but we can set margin& padding\n",
    "* none-to remove element from document flow"
   ]
  },
  {
   "cell_type": "markdown",
   "metadata": {},
   "source": [
    "11) alpha channel\n",
    "opacity (0 to 1)\n",
    "* RGBA\n",
    "colour:rgba (0,0,o,5)\n",
    "this is used for control the color of brightness\n"
   ]
  },
  {
   "cell_type": "markdown",
   "metadata": {},
   "source": [
    "12) position\n",
    "* static- defult position(the top rigt,left have no effect)\n",
    "* relative-element is relative to itself(the top,left,right)\n",
    "*absolute-position relative to its closest positioned ancestor \n",
    "\n",
    "* fixed-positioned relative to browser(remove from flow)\n",
    "* sticky-position based on user scroll position"
   ]
  },
  {
   "cell_type": "markdown",
   "metadata": {},
   "source": [
    "13) background image\n",
    "used to set an image as background\n",
    "\n",
    "background-image:url(\"image.jpg\");\n",
    "\n",
    "Background size\n",
    " background-size: cover/contain/auto"
   ]
  },
  {
   "cell_type": "markdown",
   "metadata": {},
   "source": [
    "14) flex box\n",
    "flexible box layout\n",
    "\n",
    "it is a one-dimensional layout method for arranging items in row or columns\n",
    "\n",
    "* flex direction\n",
    "\n",
    "flexbox-direction:row(defult)flexbox-direction:row-reverse;flexbox-direction:column;\n",
    "flexbox-direction:column-reverse;"
   ]
  },
  {
   "cell_type": "markdown",
   "metadata": {},
   "source": [
    "15) css transorm\n",
    "\n",
    "* translate\n",
    "transform: translate(20px);\n",
    "transform:transform(20px,50x);\n",
    "\n",
    "transform:translatex(20px);\n",
    "transform:translateY(20px);"
   ]
  },
  {
   "cell_type": "markdown",
   "metadata": {},
   "source": [
    "16) animation\n",
    "to animate css element\n",
    "\n",
    "@ keyframe my name{\n",
    "    from{font-size:20px}\n",
    "    to{font-size:40px;}\n",
    "}\n",
    "\n",
    "* Animation proporties\n",
    "* animation-name\n",
    "* animation-duration\n",
    "* animation-timing-function\n",
    "* animation-delay\n",
    "* animation-iteration-count\n",
    "* animation-direction\n",
    "\n",
    "% in animation\n",
    "@keyframe myname{\n",
    "    0%{font-size:20px;}\n",
    "    50%{font-size:30px;}\n",
    "    100%{font-size:40px; }\n",
    "}"
   ]
  }
 ],
 "metadata": {
  "language_info": {
   "name": "python"
  }
 },
 "nbformat": 4,
 "nbformat_minor": 2
}
